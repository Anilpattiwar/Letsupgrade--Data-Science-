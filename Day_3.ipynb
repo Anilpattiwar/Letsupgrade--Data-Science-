{
  "nbformat": 4,
  "nbformat_minor": 0,
  "metadata": {
    "colab": {
      "name": "Day-3",
      "provenance": [],
      "collapsed_sections": [],
      "authorship_tag": "ABX9TyOHuqbJ2QoBxcGwmsprdOeS",
      "include_colab_link": true
    },
    "kernelspec": {
      "name": "python3",
      "display_name": "Python 3"
    }
  },
  "cells": [
    {
      "cell_type": "markdown",
      "metadata": {
        "id": "view-in-github",
        "colab_type": "text"
      },
      "source": [
        "<a href=\"https://colab.research.google.com/github/Anilpattiwar/Letsupgrade--Data-Science-/blob/main/Day_3.ipynb\" target=\"_parent\"><img src=\"https://colab.research.google.com/assets/colab-badge.svg\" alt=\"Open In Colab\"/></a>"
      ]
    },
    {
      "cell_type": "code",
      "metadata": {
        "id": "n5hMQtjY8kOe",
        "outputId": "584dd0aa-9220-490e-b7d8-d45ed99eb054",
        "colab": {
          "base_uri": "https://localhost:8080/"
        }
      },
      "source": [
        "#Q1\n",
        "import numpy as np \n",
        "print(np.arange(2, 50, 3))"
      ],
      "execution_count": null,
      "outputs": [
        {
          "output_type": "stream",
          "text": [
            "[ 2  5  8 11 14 17 20 23 26 29 32 35 38 41 44 47]\n"
          ],
          "name": "stdout"
        }
      ]
    },
    {
      "cell_type": "code",
      "metadata": {
        "id": "f9Hw3VPq8mgl",
        "outputId": "3d5b91ab-10aa-4cdb-c7b8-e53af2029e96",
        "colab": {
          "base_uri": "https://localhost:8080/"
        }
      },
      "source": [
        "\n",
        "#Q2\n",
        "import numpy as np\n",
        "lst1 = [] \n",
        "lst2=[]  \n",
        "n = 5\n",
        "for i in range(0, n): \n",
        "    ele = int(input()) \n",
        "    lst1.append(ele) \n",
        "print(\"List1 : \",lst1)\n",
        "\n",
        "for j in range(0, n): \n",
        "    ele2 = int(input())   \n",
        "    lst2.append(ele2) \n",
        "print(\"List2 : \",lst2)\n",
        "\n",
        "\n",
        "import numpy \n",
        "\n",
        "arr = numpy.array(lst1)\n",
        "\n",
        "print (\"List1: \", lst1)\n",
        "\n",
        "print (\"Array: \", arr)\n",
        "\n",
        "Array = numpy.array(lst2)\n",
        "\n",
        "print (\"List1: \", lst2)\n",
        "\n",
        "print (\"Array: \", Array)\n",
        "arr=np.array(lst1)\n",
        "Array=np.array(lst2)\n",
        "print(\"Concatenated array\")\n",
        "print(np.concatenate((arr, Array), axis=None))\n",
        "\n",
        "print(\"Sorted array of lst1\")\n",
        "lst1.sort()\n",
        "print(lst1)\n",
        "print(\"Sorted array of lst2\")\n",
        "lst2.sort()\n",
        "print(lst2)"
      ],
      "execution_count": null,
      "outputs": [
        {
          "output_type": "stream",
          "text": [
            "45\n",
            "32\n",
            "6\n",
            "22\n",
            "89\n",
            "List1 :  [45, 32, 6, 22, 89]\n",
            "70\n",
            "55\n",
            "894\n",
            "4\n",
            "48\n",
            "List2 :  [70, 55, 894, 4, 48]\n",
            "List1:  [45, 32, 6, 22, 89]\n",
            "Array:  [45 32  6 22 89]\n",
            "List1:  [70, 55, 894, 4, 48]\n",
            "Array:  [ 70  55 894   4  48]\n",
            "Concatenated array\n",
            "[ 45  32   6  22  89  70  55 894   4  48]\n",
            "Sorted array of lst1\n",
            "[6, 22, 32, 45, 89]\n",
            "Sorted array of lst2\n",
            "[4, 48, 55, 70, 894]\n"
          ],
          "name": "stdout"
        }
      ]
    },
    {
      "cell_type": "code",
      "metadata": {
        "id": "ZCtOUJc68uR8",
        "outputId": "ee89f179-931f-4848-fb15-a2a5bdb01118",
        "colab": {
          "base_uri": "https://localhost:8080/"
        }
      },
      "source": [
        "#Q3\n",
        "import numpy as np\n",
        "arr = np.array( [[ 1, 2, 3],\n",
        "                 [ 4, 2, 5]] )\n",
        "print(\"No. of dimensions: \", arr.ndim)\n",
        "print(\"Size of array: \", arr.size)"
      ],
      "execution_count": null,
      "outputs": [
        {
          "output_type": "stream",
          "text": [
            "No. of dimensions:  2\n",
            "Size of array:  6\n"
          ],
          "name": "stdout"
        }
      ]
    },
    {
      "cell_type": "code",
      "metadata": {
        "id": "ZcZ72Kci85mk",
        "outputId": "86e0ef19-f68b-4f62-abf7-d630a3fc3663",
        "colab": {
          "base_uri": "https://localhost:8080/"
        }
      },
      "source": [
        "#Q4\n",
        ">>> a = np.array([1, 2, 3, 4, 5, 6])\n",
        ">>> a.shape\n",
        "(6,)\n",
        ">>> a2 = a[np.newaxis, :]\n",
        ">>> a2.shape\n",
        "(1, 6)\n",
        "print(a)\n",
        ">>> a = np.array([1, 2, 3, 4, 5, 6])\n",
        ">>> a.shape\n",
        "(6,)\n",
        ">>> b = np.expand_dims(a, axis=1)\n",
        ">>> b.shape\n",
        "(6, 1)\n",
        "print(b)"
      ],
      "execution_count": null,
      "outputs": [
        {
          "output_type": "stream",
          "text": [
            "[1 2 3 4 5 6]\n",
            "[[1]\n",
            " [2]\n",
            " [3]\n",
            " [4]\n",
            " [5]\n",
            " [6]]\n"
          ],
          "name": "stdout"
        }
      ]
    },
    {
      "cell_type": "code",
      "metadata": {
        "id": "H4V_wwBM9Fyj",
        "outputId": "0c9640b7-1485-4f5d-b491-9d2396e40594",
        "colab": {
          "base_uri": "https://localhost:8080/"
        }
      },
      "source": [
        "#Q5\n",
        "import numpy as np \n",
        "  \n",
        "a = np.array([[1, 2], \n",
        "              [3, 4]]) \n",
        "  \n",
        "b = np.array([[5, 6], \n",
        "              [7, 8]]) \n",
        "  \n",
        "# vertical stacking \n",
        "print(\"Vertical stacking:\\n\", np.vstack((a, b))) \n",
        "  \n",
        "# horizontal stacking \n",
        "print(\"\\nHorizontal stacking:\\n\", np.hstack((a, b)))"
      ],
      "execution_count": null,
      "outputs": [
        {
          "output_type": "stream",
          "text": [
            "Vertical stacking:\n",
            " [[1 2]\n",
            " [3 4]\n",
            " [5 6]\n",
            " [7 8]]\n",
            "\n",
            "Horizontal stacking:\n",
            " [[1 2 5 6]\n",
            " [3 4 7 8]]\n"
          ],
          "name": "stdout"
        }
      ]
    },
    {
      "cell_type": "code",
      "metadata": {
        "id": "NszCjx1N9PqK",
        "outputId": "bd0e563c-a510-43d2-c59d-2379830d9594",
        "colab": {
          "base_uri": "https://localhost:8080/"
        }
      },
      "source": [
        "#Q6\n",
        "input_list = [1, 2, 2, 5, 8, 4, 4, 8] \n",
        "l1 = []  \n",
        "count = 0 \n",
        "for item in input_list: \n",
        "    if item not in l1: \n",
        "        count += 1\n",
        "        l1.append(item)\n",
        "print(\"No of unique items are:\", count)\n",
        "\n",
        "def unique(input_list): \n",
        "    list_set = set(input_list) \n",
        "    unique_list = list(list_set) \n",
        "    for x in unique_list: \n",
        "        print (x)\n",
        "print(\"Unique items are:\")\n",
        "unique(input_list)"
      ],
      "execution_count": null,
      "outputs": [
        {
          "output_type": "stream",
          "text": [
            "No of unique items are: 5\n",
            "Unique items are:\n",
            "1\n",
            "2\n",
            "4\n",
            "5\n",
            "8\n"
          ],
          "name": "stdout"
        }
      ]
    }
  ]
}