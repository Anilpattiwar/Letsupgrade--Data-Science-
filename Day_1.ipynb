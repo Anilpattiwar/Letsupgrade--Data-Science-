{
  "nbformat": 4,
  "nbformat_minor": 0,
  "metadata": {
    "colab": {
      "name": "Day-1",
      "provenance": [],
      "collapsed_sections": [],
      "authorship_tag": "ABX9TyP+RwTChvF9nGE6QrAZBLTT",
      "include_colab_link": true
    },
    "kernelspec": {
      "name": "python3",
      "display_name": "Python 3"
    }
  },
  "cells": [
    {
      "cell_type": "markdown",
      "metadata": {
        "id": "view-in-github",
        "colab_type": "text"
      },
      "source": [
        "<a href=\"https://colab.research.google.com/github/Anilpattiwar/Letsupgrade--Data-Science-/blob/main/Day_1.ipynb\" target=\"_parent\"><img src=\"https://colab.research.google.com/assets/colab-badge.svg\" alt=\"Open In Colab\"/></a>"
      ]
    },
    {
      "cell_type": "code",
      "metadata": {
        "id": "7DdSOrYd5dsM"
      },
      "source": [
        "#Q1\n",
        "B)RAINBOW"
      ],
      "execution_count": null,
      "outputs": []
    },
    {
      "cell_type": "code",
      "metadata": {
        "id": "014yWErv6JXr",
        "outputId": "a36f6475-e1f2-44c3-8186-8366660d0bf5",
        "colab": {
          "base_uri": "https://localhost:8080/"
        }
      },
      "source": [
        "#Q2\n",
        "a=\"LETSUPGRADE\"\n",
        "print(a)"
      ],
      "execution_count": null,
      "outputs": [
        {
          "output_type": "stream",
          "text": [
            "LETSUPGRADE\n"
          ],
          "name": "stdout"
        }
      ]
    },
    {
      "cell_type": "code",
      "metadata": {
        "id": "-y-vnAzs6MnR",
        "outputId": "180860d6-47ab-434c-a0ca-f9b2c029adab",
        "colab": {
          "base_uri": "https://localhost:8080/"
        }
      },
      "source": [
        "#Q3\n",
        "CP=float(input())\n",
        "SP=float(input())\n",
        "if SP-CP>0:\n",
        "  print(\"Profit\")\n",
        "elif SP-CP<0:\n",
        "  print(\"Loss\")\n",
        "else:\n",
        "  print(\"Neither\")"
      ],
      "execution_count": null,
      "outputs": [
        {
          "output_type": "stream",
          "text": [
            "140\n",
            "80\n",
            "Loss\n"
          ],
          "name": "stdout"
        }
      ]
    },
    {
      "cell_type": "code",
      "metadata": {
        "id": "DyyIc8Kq6SLp",
        "outputId": "7f2317fa-8d63-4924-9d09-4a82fe6ab113",
        "colab": {
          "base_uri": "https://localhost:8080/"
        }
      },
      "source": [
        "#Q4\n",
        "Amt_in_euro=input()\n",
        "Amt_in_Rupees=int(Amt_in_euro)*80\n",
        "print(Amt_in_Rupees)"
      ],
      "execution_count": null,
      "outputs": [
        {
          "output_type": "stream",
          "text": [
            "40\n",
            "3200\n"
          ],
          "name": "stdout"
        }
      ]
    }
  ]
}