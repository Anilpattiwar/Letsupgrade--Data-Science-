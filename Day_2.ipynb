{
  "nbformat": 4,
  "nbformat_minor": 0,
  "metadata": {
    "colab": {
      "name": "Day-2",
      "provenance": [],
      "collapsed_sections": [],
      "authorship_tag": "ABX9TyMrWLTQ/Xn0hSnT1cXmT8l9",
      "include_colab_link": true
    },
    "kernelspec": {
      "name": "python3",
      "display_name": "Python 3"
    }
  },
  "cells": [
    {
      "cell_type": "markdown",
      "metadata": {
        "id": "view-in-github",
        "colab_type": "text"
      },
      "source": [
        "<a href=\"https://colab.research.google.com/github/Anilpattiwar/Letsupgrade--Data-Science-/blob/main/Day_2.ipynb\" target=\"_parent\"><img src=\"https://colab.research.google.com/assets/colab-badge.svg\" alt=\"Open In Colab\"/></a>"
      ]
    },
    {
      "cell_type": "code",
      "metadata": {
        "id": "6sKtUZBm7HsS",
        "outputId": "b3d23466-8d2e-4657-83bc-2514352f1e07",
        "colab": {
          "base_uri": "https://localhost:8080/"
        }
      },
      "source": [
        "#Q1\n",
        "list = []\n",
        "for i in range(10):\n",
        "\tnumber = int(input())\n",
        "\tif number%2==0:\n",
        "\t\tlist.append(number)\n",
        "print(list)"
      ],
      "execution_count": null,
      "outputs": [
        {
          "output_type": "stream",
          "text": [
            "4\n",
            "7\n",
            "42\n",
            "56\n",
            "8\n",
            "32\n",
            "10\n",
            "3\n",
            "97\n",
            "56\n",
            "[4, 42, 56, 8, 32, 10, 56]\n"
          ],
          "name": "stdout"
        }
      ]
    },
    {
      "cell_type": "code",
      "metadata": {
        "id": "yFSv3rWQ7ZF5",
        "outputId": "7e58459c-ac1f-4d23-f259-f4b8116dc64b",
        "colab": {
          "base_uri": "https://localhost:8080/"
        }
      },
      "source": [
        "\n",
        "#Q2\n",
        "\"List comprehensions are a way of achieving Pythonic one-liners with iterables(lists)\"\n",
        "#Example1\n",
        "input_list = [1, 2, 3, 4, 4, 5, 6, 7, 7] \n",
        "  \n",
        "output_list = [] \n",
        "  \n",
        "# Using loop for constructing output list \n",
        "for var in input_list: \n",
        "    if var % 2 == 0: \n",
        "        output_list.append(var) \n",
        "  \n",
        "print(\"Output List using for loop:\", output_list)\n",
        "#Using list comprehension\n",
        "input_list = [1, 2, 3, 4, 4, 5, 6, 7, 7] \n",
        "  \n",
        "  \n",
        "list_using_comp = [var for var in input_list if var % 2 == 0] \n",
        "  \n",
        "print(\"Output List using list comprehensions:\", list_using_comp)\n",
        "\n",
        "\n",
        "#Example2\n",
        "#Using for loop\n",
        "output_list = [] \n",
        "for var in range(1, 10): \n",
        "    output_list.append(var ** 2) \n",
        "      \n",
        "print(\"Output List using for loop:\", output_list)\n",
        "#Using list comprehension\n",
        "list_using_comp = [var**2 for var in range(1, 10)] \n",
        "  \n",
        "print(\"Output List using list comprehension:\",  \n",
        "                              list_using_comp)"
      ],
      "execution_count": null,
      "outputs": [
        {
          "output_type": "stream",
          "text": [
            "Output List using for loop: [2, 4, 4, 6]\n",
            "Output List using list comprehensions: [2, 4, 4, 6]\n",
            "Output List using for loop: [1, 4, 9, 16, 25, 36, 49, 64, 81]\n",
            "Output List using list comprehension: [1, 4, 9, 16, 25, 36, 49, 64, 81]\n"
          ],
          "name": "stdout"
        }
      ]
    },
    {
      "cell_type": "code",
      "metadata": {
        "id": "0O4oPXS27bmP",
        "outputId": "c9e13e6a-0bcd-4cda-bca2-7fa5b4135515",
        "colab": {
          "base_uri": "https://localhost:8080/"
        }
      },
      "source": [
        "#Q3\n",
        "num=int(input())\n",
        "d=dict()\n",
        "for x in range(1,num+1):\n",
        "    d[x]=x**2\n",
        "print(d)"
      ],
      "execution_count": null,
      "outputs": [
        {
          "output_type": "stream",
          "text": [
            "5\n",
            "{1: 1, 2: 4, 3: 9, 4: 16, 5: 25}\n"
          ],
          "name": "stdout"
        }
      ]
    },
    {
      "cell_type": "code",
      "metadata": {
        "id": "LvW0_JLU7bgV",
        "outputId": "3b6cf2f8-7624-4d48-fa89-d6808da0c3c1",
        "colab": {
          "base_uri": "https://localhost:8080/"
        }
      },
      "source": [
        "#Q4\n",
        "x=0\n",
        "y=0\n",
        "n = int(input())\n",
        "\n",
        "for i in range(n):\n",
        "    direction = input().split(' ')  \n",
        "    \n",
        "    if direction[0].upper() == \"UP\":\n",
        "        y += int(direction[1])\n",
        "    elif direction[0].upper() == \"RIGHT\":\n",
        "        x += int(direction[1])\n",
        "    elif direction[0].upper() == \"DOWN\":\n",
        "        y -= int(direction[1])\n",
        "    elif direction[0].upper() == \"LEFT\":\n",
        "        x -= int(direction[1])\n",
        "    else:\n",
        "        print(\"Invalid Input\")    \n",
        "pos = float((x**2+y**2)**0.5)\n",
        "print(round(pos))"
      ],
      "execution_count": null,
      "outputs": [
        {
          "output_type": "stream",
          "text": [
            "5\n",
            "UP 10\n",
            "DOWN 4\n",
            "RIGHT 6\n",
            "LEFT 9\n",
            "DOWN 2\n",
            "5\n"
          ],
          "name": "stdout"
        }
      ]
    }
  ]
}